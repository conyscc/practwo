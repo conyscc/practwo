{
 "cells": [
  {
   "cell_type": "code",
   "execution_count": 1,
   "id": "f21be83c",
   "metadata": {},
   "outputs": [],
   "source": [
    "from pracktikumtwo import *"
   ]
  },
  {
   "cell_type": "code",
   "execution_count": null,
   "id": "6dd0f2d4",
   "metadata": {},
   "outputs": [],
   "source": [
    "import os\n",
    "os.chdir('C:\\\\practwo')\n",
    "while True:\n",
    "    command=input('Введите комнаду или help для перечисления команд: ')\n",
    "    if command == 'create_file':\n",
    "        name = input('Введите имя файла: ')\n",
    "        create_file(name)\n",
    "    elif command == 'create_folder':\n",
    "        name = input('Введите имя папки: ')\n",
    "        create_folder(name)\n",
    "    elif command == 'delete':\n",
    "        name = input('Введите имя файла: ')\n",
    "        delete_file(name)\n",
    "    elif command == 'copy':\n",
    "        name = input('Введите имя файла: ')\n",
    "        new_name = input('Введите новое имя файла: ')\n",
    "        copy_file(name, new_name)\n",
    "    elif command == 'rename':\n",
    "        name = input('Введите имя файла: ')\n",
    "        new_name = input('Введите новое имя файла: ')\n",
    "        rename_file(name, new_name)\n",
    "    elif command == 'add_text':\n",
    "        name = input('Введите имя файла: ')\n",
    "        text = input('Введите текст для ввода: ')\n",
    "        add_text_to_file(name, text)\n",
    "    elif command == 'show_text':\n",
    "        name = input('Введите имя файла: ')\n",
    "        show_text_file(name)\n",
    "    elif command == 'change_directory':\n",
    "        name = input('Введите имя папки: ')\n",
    "        change_directory(name)\n",
    "    elif command == 'to_the_root':\n",
    "        go_to_the_root()\n",
    "    elif command == 'move_file':\n",
    "        name = input('Введите имя файла: ')\n",
    "        which_dir = input('Введите распложение папки: ')\n",
    "        move_file(name, which_dir)\n",
    "    elif command == 'help':\n",
    "        print('list - список файлов и папок')\n",
    "        print('create_file - создание файла')\n",
    "        print('create_folder - создание папки')\n",
    "        print('delete - удаление файла или папки')\n",
    "        print('copy - копирование файла или папки')\n",
    "        print('rename - переименование файла или папки')\n",
    "        print('add_text - запись текста в файл')\n",
    "        print('show_text - чтение содержания файла')\n",
    "        print('to_the_root - возврат к корню папки')\n",
    "        print('move_file - перемещение файла в другую папку')\n"
   ]
  },
  {
   "cell_type": "code",
   "execution_count": null,
   "id": "47c00153",
   "metadata": {},
   "outputs": [],
   "source": []
  }
 ],
 "metadata": {
  "kernelspec": {
   "display_name": "Python 3 (ipykernel)",
   "language": "python",
   "name": "python3"
  },
  "language_info": {
   "codemirror_mode": {
    "name": "ipython",
    "version": 3
   },
   "file_extension": ".py",
   "mimetype": "text/x-python",
   "name": "python",
   "nbconvert_exporter": "python",
   "pygments_lexer": "ipython3",
   "version": "3.9.7"
  }
 },
 "nbformat": 4,
 "nbformat_minor": 5
}
